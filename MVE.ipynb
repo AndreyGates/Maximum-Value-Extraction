{
 "cells": [
  {
   "cell_type": "markdown",
   "id": "4ab06971-bf7d-4b50-b9eb-0bfaedfa7956",
   "metadata": {},
   "source": [
    "### Формула Maximum Value Extraction из пулов ликвидности Constant Product AMM"
   ]
  },
  {
   "cell_type": "markdown",
   "id": "bcf8d66e-618a-44e6-b09c-da0164986625",
   "metadata": {},
   "source": [
    "#### 1. Класс пула ликвидности и алгоритм AB продажи-покупки"
   ]
  },
  {
   "cell_type": "markdown",
   "id": "85e21e09-2cf1-47db-875d-4d43962ca3dd",
   "metadata": {},
   "source": [
    "Для начала необходимо реализовать класс пула ликвидности, в котором будет хранится информация об изначальном резерве каждого токена. Также внутри класса реализован алгоритм AB продажи-покупки, где на основе проданного кол-ва монет одного токена вычисляется купленное кол-во монет другого токена."
   ]
  },
  {
   "cell_type": "code",
   "execution_count": 54,
   "id": "66c6ce6a-d7e6-44a9-bcd8-c3e9efaa5c46",
   "metadata": {},
   "outputs": [],
   "source": [
    "class LP: # liquidity pool\n",
    "    fees = 0.003 # 0.3 % of fees returned to LP providers after a customer's transaction \n",
    "    \n",
    "    def __init__(self, x, y):\n",
    "        self.x = x # initial amount of token A in LP\n",
    "        self.y = y # initial amount of token B in LP\n",
    "        self.k = x * y # constant product\n",
    "        \n",
    "    def trade_return(self, dx):\n",
    "        '''Calculating how much (dy) of token B is received after selling dx of token A'''\n",
    "        dx *= (1+LP.fees) # taking the fees into account\n",
    "        dy = (self.y * dx) / (self.x + dx)\n",
    "        \n",
    "        #self.x += dx # goes into the pool (sold by a customer)\n",
    "        #self.y -= dy # goes out of the pool (bought by a customer)\n",
    "        return dy"
   ]
  },
  {
   "cell_type": "markdown",
   "id": "e17bd7ca-08d3-4bda-82c0-17a0e3dda1d9",
   "metadata": {},
   "source": [
    "#### 2. Маршрут транзакции A->B->C->A и расчет полученной прибыли"
   ]
  },
  {
   "cell_type": "markdown",
   "id": "2150751a-71f3-4167-8145-3fd55c287c4f",
   "metadata": {},
   "source": [
    "Далее реализована цепочка транзакций для определенного кол-ва пулов, через которые последовательно происходит обмен монет токенов. Также вычисляется прибыль, получаемая при определенном кол-ве проданных монет первоначального токена А."
   ]
  },
  {
   "cell_type": "code",
   "execution_count": null,
   "id": "4f245507-d27e-478c-afe9-d12947cea7a5",
   "metadata": {},
   "outputs": [],
   "source": [
    "def final_trade_return(initial_a, pools):\n",
    "    '''Calculating the amount of token A received after completing the transaction chain'''\n",
    "    out = initial_a # initial deposit of token A\n",
    "    for lp in pools:\n",
    "        out = lp.trade_return(out)\n",
    "    return out\n",
    "\n",
    "def absolute_income(initial_a, pools, sign=1):\n",
    "    '''Calculating the relative income:\n",
    "           ai = final_a - initial_a'''\n",
    "    final_a = final_trade_return(initial_a, pools)\n",
    "    ai = final_a - initial_a\n",
    "    return sign * ai # sign '-' is used as we minimize the function"
   ]
  },
  {
   "cell_type": "markdown",
   "id": "8326aa56-8f73-4429-8daf-f09e58cfb819",
   "metadata": {},
   "source": [
    "#### 3. Реализация оптимизационного метода Нелдера-Мида для функции одной переменной"
   ]
  },
  {
   "cell_type": "markdown",
   "id": "a3f98c8d-9a8b-47d6-b509-a287d4098732",
   "metadata": {},
   "source": [
    "Так как функция прибыли от изначального числа проданных токенов унимодальна (эмпирический вывод), используется оптимизационный метод первого порядка (метод Нелдера-Мида) для нахождения максимума функции."
   ]
  },
  {
   "cell_type": "code",
   "execution_count": 95,
   "id": "ada55fd6-a45a-4d1d-b659-a753c6276296",
   "metadata": {},
   "outputs": [],
   "source": [
    "from math import *\n",
    "\n",
    "# The Nelder-Mead Algorithm\n",
    "def nelder_mead(m, beta, gamma, epsilon, n = 1): \n",
    "    \"\"\"\n",
    "    m - edge length,\n",
    "    beta - expansion coefficient, gamma - contraction coefficion,\n",
    "    epsilon - critical error,\n",
    "    n - number of dimensions (1 by default)\n",
    "    \"\"\"\n",
    "    # Initial Simplex Point\n",
    "    x0 = 1\n",
    "\n",
    "    # Changes\n",
    "    delta_1 = m * (sqrt(n + 1) - 1) / (n * sqrt(2))\n",
    "    delta_2 = m * (sqrt(n + 1) + n - 1) / (n * sqrt(2))\n",
    "\n",
    "    # The rest of vertices\n",
    "    x1 = x0 + delta_1\n",
    "    x2 = x0 + delta_2\n",
    "\n",
    "    iteration = 0\n",
    "    while (True): # while the error is bigger than the critical value, do the cycle\n",
    "\n",
    "        iteration += 1\n",
    "\n",
    "        # A dictionary of (x, f(x)) pairs\n",
    "        dict = {x0:f(x0), x1:f(x1), x2:f(x2)} \n",
    "\n",
    "        # Sorting the pairs according to the function values in ascending order\n",
    "        points = sorted(dict.items(), key = lambda x: x[1])\n",
    "\n",
    "        l = points[0][0] # an argument of the lowest function value\n",
    "        s = points[1][0] # an argument of the second-highest function value\n",
    "        h = points[2][0] # an argument of the highest function value\n",
    "\n",
    "        # Boolean parameters denoting if the actions were already performed\n",
    "        reflection = False \n",
    "        expansion = False\n",
    "        contraction = False\n",
    "        \n",
    "        x_c = (s + l) / 2 # the centroid of all points except H\n",
    "        x_refl = 2 * x_c - h\n",
    "\n",
    "        # Reflection\n",
    "        if ((not reflection) and f(x_refl) < f(h)):\n",
    "            h = x_refl\n",
    "            reflection = True\n",
    "\n",
    "        # Expansion\n",
    "        if (reflection and f(x_refl) < f(l)):\n",
    "            x_refl = x_c + beta * (h - x_c)\n",
    "\n",
    "            if (f(x_refl) < f(h)):\n",
    "                h = x_refl\n",
    "                expansion = True\n",
    "\n",
    "        # Contraction\n",
    "        if ((not reflection) and (not expansion) and (f(s) < f(x_refl)) and (f(x_refl) < f(h))):\n",
    "            x_refl = x_c + gamma * (h - x_c)\n",
    "\n",
    "            if (f(x_refl) < f(h)):\n",
    "                h = x_refl\n",
    "                contraction = True\n",
    "\n",
    "        # Reduction\n",
    "        if ((not reflection) and (not expansion) and (not contraction)):\n",
    "            x_red = l if f(l) < f(x_refl) else x_refl # corresponding to the lowest function value amongst l, s, h, and x_refl\n",
    "\n",
    "            h = x_red + 0.5 * (h - x_red)\n",
    "            s = x_red + 0.5 * (s - x_red)\n",
    "            l = x_red + 0.5 * (l - x_red)\n",
    "\n",
    "        # Updating the points\n",
    "        x0 = h\n",
    "        x1 = s\n",
    "        x2 = l\n",
    "        x_c = (x0 + x1 + x2) / 3 # the centroid of the whole polyhedron\n",
    "\n",
    "        # Error\n",
    "        sigma = sqrt(((f(x0) - f(x_c))**2 + (f(x1) - f(x_c))**2 + (f(x2) - f(x_c))**2) / 3)\n",
    "        \n",
    "        #print('Iteration #', iteration-1, ': ', l, ', ', f(l))\n",
    "\n",
    "        if (sigma < epsilon):\n",
    "            break\n",
    "\n",
    "    return l"
   ]
  },
  {
   "cell_type": "markdown",
   "id": "73af4201-d93a-4710-826d-57869f853e6b",
   "metadata": {},
   "source": [
    "#### 4. Вывод наиболее выгодного числа токенов А для продажи на основе входных пулов ликвидности"
   ]
  },
  {
   "cell_type": "code",
   "execution_count": 107,
   "id": "8f7d74df-19dc-4e18-9015-c91507b9652a",
   "metadata": {},
   "outputs": [],
   "source": [
    "from functools import partial\n",
    "\n",
    "def find_optimal_a(pools):\n",
    "    f = partial(absolute_income, pools=pools, sign=-1) # -1 * absolute_income (max = -min, for Nelder-Mead)\n",
    "\n",
    "    optimal_a = nelder_mead(m=1, beta=2.0, gamma=0.5, epsilon=0.0001)\n",
    "    print(f\"Оптимальным количеством монет токена А для продажи равно: {int(optimal_a)}\")"
   ]
  },
  {
   "cell_type": "markdown",
   "id": "ba8957c5-abfe-4490-9da1-fb6b98375cf8",
   "metadata": {
    "tags": []
   },
   "source": [
    "#### 5. Пример"
   ]
  },
  {
   "cell_type": "code",
   "execution_count": 108,
   "id": "777bead5-5e8c-48f0-a92b-adaa382b1989",
   "metadata": {},
   "outputs": [
    {
     "name": "stdout",
     "output_type": "stream",
     "text": [
      "Оптимальным количеством монет токена А для продажи равно: 47717739\n"
     ]
    }
   ],
   "source": [
    "ab = LP(3753139396, 166740188573)\n",
    "bc = LP(724520588560, 766050680304)\n",
    "cd = LP(10457920653, 1051487855)\n",
    "de = LP(1722571966294, 2846977754550)\n",
    "ea = LP(22496742244741, 4310194783973)\n",
    "\n",
    "pools = [ab, bc, cd, de, ea]\n",
    "\n",
    "find_optimal_a(pools)"
   ]
  },
  {
   "cell_type": "markdown",
   "id": "ea099d6f-442f-462f-8d8e-2538d29f82f6",
   "metadata": {},
   "source": [
    "#### 6. Ввод и вывод"
   ]
  },
  {
   "cell_type": "markdown",
   "id": "0876f8e3-0df8-4bf4-83c8-843496a74d99",
   "metadata": {},
   "source": [
    "И теперь организуем I/O поток для нахождения максимума с произвольными пулами"
   ]
  },
  {
   "cell_type": "code",
   "execution_count": null,
   "id": "bcf5044d-186d-406f-ae06-462ecb65e445",
   "metadata": {},
   "outputs": [],
   "source": [
    "n = int(input('Пожалуйста, введите кол-во пулов ликвидности в цепочке транзакций:'))\n",
    "pools = []\n",
    "for _ in range(n):\n",
    "    balances = input('Пожалуйста, введите балансы двух токенов пула через пробел:').split()\n",
    "    b1, b2 = int(balances[0]), int(balances[1])\n",
    "    pools.append(LP(b1, b2))\n",
    "\n",
    "print()\n",
    "find_optimal_a(pools)"
   ]
  },
  {
   "cell_type": "code",
   "execution_count": null,
   "id": "bd47bb43-04fb-4716-a5d2-541d9de84c93",
   "metadata": {},
   "outputs": [],
   "source": []
  }
 ],
 "metadata": {
  "kernelspec": {
   "display_name": "Python 3 (ipykernel)",
   "language": "python",
   "name": "python3"
  },
  "language_info": {
   "codemirror_mode": {
    "name": "ipython",
    "version": 3
   },
   "file_extension": ".py",
   "mimetype": "text/x-python",
   "name": "python",
   "nbconvert_exporter": "python",
   "pygments_lexer": "ipython3",
   "version": "3.9.12"
  }
 },
 "nbformat": 4,
 "nbformat_minor": 5
}
